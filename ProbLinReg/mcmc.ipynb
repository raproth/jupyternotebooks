{
 "cells": [
  {
   "cell_type": "code",
   "execution_count": 97,
   "id": "96f0bb55",
   "metadata": {
    "pycharm": {
     "name": "#%%\n"
    }
   },
   "outputs": [],
   "source": [
    "import numpy as np\n",
    "import pandas as pd\n",
    "import pymc3 as pm\n",
    "import matplotlib.pyplot as plt\n",
    "%matplotlib inline\n",
    "plt.rcParams['figure.figsize'] = [14, 6]\n",
    "import matplotlib.dates as dates\n",
    "import seaborn as sns\n",
    "import arviz as az"
   ]
  },
  {
   "cell_type": "code",
   "execution_count": 86,
   "outputs": [],
   "source": [
    "from datetime import datetime\n",
    "custom_date_parser = lambda x: datetime.strptime(x, \"%d.%m.%Y\")"
   ],
   "metadata": {
    "collapsed": false,
    "pycharm": {
     "name": "#%%\n"
    }
   }
  },
  {
   "cell_type": "code",
   "execution_count": 87,
   "outputs": [
    {
     "data": {
      "text/plain": "        Datum  Gewicht\n0  2022-03-01     92.9\n1  2022-03-12     92.4\n2  2022-03-17     92.2\n3  2022-03-20     91.7\n4  2022-03-24     92.0\n5  2022-03-25     91.3\n6  2022-03-29     91.0\n7  2022-03-30     90.7\n8  2022-04-03     90.8\n9  2022-04-05     90.4\n10 2022-04-09     90.3\n11 2022-04-12     89.7\n12 2022-04-17     90.8\n13 2022-04-19     89.9\n14 2022-04-26     89.8\n15 2022-05-01     89.5\n16 2022-05-04     89.3\n17 2022-05-06     89.2\n18 2022-05-08     88.9\n19 2022-05-09     88.6\n20 2022-05-15     88.6\n21 2022-05-17     88.2\n22 2022-05-19     87.5\n23 2022-05-21     87.5\n24 2022-05-24     87.4\n25 2022-05-25     87.0\n26 2022-05-26     86.7\n27 2022-05-28     87.6\n28 2022-05-29     87.1\n29 2022-05-30     86.8",
      "text/html": "<div>\n<style scoped>\n    .dataframe tbody tr th:only-of-type {\n        vertical-align: middle;\n    }\n\n    .dataframe tbody tr th {\n        vertical-align: top;\n    }\n\n    .dataframe thead th {\n        text-align: right;\n    }\n</style>\n<table border=\"1\" class=\"dataframe\">\n  <thead>\n    <tr style=\"text-align: right;\">\n      <th></th>\n      <th>Datum</th>\n      <th>Gewicht</th>\n    </tr>\n  </thead>\n  <tbody>\n    <tr>\n      <th>0</th>\n      <td>2022-03-01</td>\n      <td>92.9</td>\n    </tr>\n    <tr>\n      <th>1</th>\n      <td>2022-03-12</td>\n      <td>92.4</td>\n    </tr>\n    <tr>\n      <th>2</th>\n      <td>2022-03-17</td>\n      <td>92.2</td>\n    </tr>\n    <tr>\n      <th>3</th>\n      <td>2022-03-20</td>\n      <td>91.7</td>\n    </tr>\n    <tr>\n      <th>4</th>\n      <td>2022-03-24</td>\n      <td>92.0</td>\n    </tr>\n    <tr>\n      <th>5</th>\n      <td>2022-03-25</td>\n      <td>91.3</td>\n    </tr>\n    <tr>\n      <th>6</th>\n      <td>2022-03-29</td>\n      <td>91.0</td>\n    </tr>\n    <tr>\n      <th>7</th>\n      <td>2022-03-30</td>\n      <td>90.7</td>\n    </tr>\n    <tr>\n      <th>8</th>\n      <td>2022-04-03</td>\n      <td>90.8</td>\n    </tr>\n    <tr>\n      <th>9</th>\n      <td>2022-04-05</td>\n      <td>90.4</td>\n    </tr>\n    <tr>\n      <th>10</th>\n      <td>2022-04-09</td>\n      <td>90.3</td>\n    </tr>\n    <tr>\n      <th>11</th>\n      <td>2022-04-12</td>\n      <td>89.7</td>\n    </tr>\n    <tr>\n      <th>12</th>\n      <td>2022-04-17</td>\n      <td>90.8</td>\n    </tr>\n    <tr>\n      <th>13</th>\n      <td>2022-04-19</td>\n      <td>89.9</td>\n    </tr>\n    <tr>\n      <th>14</th>\n      <td>2022-04-26</td>\n      <td>89.8</td>\n    </tr>\n    <tr>\n      <th>15</th>\n      <td>2022-05-01</td>\n      <td>89.5</td>\n    </tr>\n    <tr>\n      <th>16</th>\n      <td>2022-05-04</td>\n      <td>89.3</td>\n    </tr>\n    <tr>\n      <th>17</th>\n      <td>2022-05-06</td>\n      <td>89.2</td>\n    </tr>\n    <tr>\n      <th>18</th>\n      <td>2022-05-08</td>\n      <td>88.9</td>\n    </tr>\n    <tr>\n      <th>19</th>\n      <td>2022-05-09</td>\n      <td>88.6</td>\n    </tr>\n    <tr>\n      <th>20</th>\n      <td>2022-05-15</td>\n      <td>88.6</td>\n    </tr>\n    <tr>\n      <th>21</th>\n      <td>2022-05-17</td>\n      <td>88.2</td>\n    </tr>\n    <tr>\n      <th>22</th>\n      <td>2022-05-19</td>\n      <td>87.5</td>\n    </tr>\n    <tr>\n      <th>23</th>\n      <td>2022-05-21</td>\n      <td>87.5</td>\n    </tr>\n    <tr>\n      <th>24</th>\n      <td>2022-05-24</td>\n      <td>87.4</td>\n    </tr>\n    <tr>\n      <th>25</th>\n      <td>2022-05-25</td>\n      <td>87.0</td>\n    </tr>\n    <tr>\n      <th>26</th>\n      <td>2022-05-26</td>\n      <td>86.7</td>\n    </tr>\n    <tr>\n      <th>27</th>\n      <td>2022-05-28</td>\n      <td>87.6</td>\n    </tr>\n    <tr>\n      <th>28</th>\n      <td>2022-05-29</td>\n      <td>87.1</td>\n    </tr>\n    <tr>\n      <th>29</th>\n      <td>2022-05-30</td>\n      <td>86.8</td>\n    </tr>\n  </tbody>\n</table>\n</div>"
     },
     "execution_count": 87,
     "metadata": {},
     "output_type": "execute_result"
    }
   ],
   "source": [
    "data = pd.read_csv(\"data.tsv\",sep=\"\\t\",parse_dates=[\"Datum\"],date_parser=custom_date_parser)\n",
    "data"
   ],
   "metadata": {
    "collapsed": false,
    "pycharm": {
     "name": "#%%\n"
    }
   }
  },
  {
   "cell_type": "code",
   "execution_count": 88,
   "outputs": [],
   "source": [
    "#data['Datum_num']=data['Datum'].map(datetime.toordinal)"
   ],
   "metadata": {
    "collapsed": false,
    "pycharm": {
     "name": "#%%\n"
    }
   }
  },
  {
   "cell_type": "code",
   "execution_count": 89,
   "outputs": [],
   "source": [
    "data['Datum_num']=data['Datum'].map(dates.date2num)"
   ],
   "metadata": {
    "collapsed": false,
    "pycharm": {
     "name": "#%%\n"
    }
   }
  },
  {
   "cell_type": "code",
   "execution_count": 90,
   "outputs": [
    {
     "name": "stdout",
     "output_type": "stream",
     "text": [
      "<class 'pandas.core.frame.DataFrame'>\n",
      "RangeIndex: 30 entries, 0 to 29\n",
      "Data columns (total 3 columns):\n",
      " #   Column     Non-Null Count  Dtype         \n",
      "---  ------     --------------  -----         \n",
      " 0   Datum      30 non-null     datetime64[ns]\n",
      " 1   Gewicht    30 non-null     float64       \n",
      " 2   Datum_num  30 non-null     float64       \n",
      "dtypes: datetime64[ns](1), float64(2)\n",
      "memory usage: 848.0 bytes\n"
     ]
    }
   ],
   "source": [
    "data.info()"
   ],
   "metadata": {
    "collapsed": false,
    "pycharm": {
     "name": "#%%\n"
    }
   }
  },
  {
   "cell_type": "code",
   "execution_count": 91,
   "outputs": [
    {
     "data": {
      "text/plain": "        Datum  Gewicht  Datum_num\n0  2022-03-01     92.9    19052.0\n1  2022-03-12     92.4    19063.0\n2  2022-03-17     92.2    19068.0\n3  2022-03-20     91.7    19071.0\n4  2022-03-24     92.0    19075.0\n5  2022-03-25     91.3    19076.0\n6  2022-03-29     91.0    19080.0\n7  2022-03-30     90.7    19081.0\n8  2022-04-03     90.8    19085.0\n9  2022-04-05     90.4    19087.0\n10 2022-04-09     90.3    19091.0\n11 2022-04-12     89.7    19094.0\n12 2022-04-17     90.8    19099.0\n13 2022-04-19     89.9    19101.0\n14 2022-04-26     89.8    19108.0\n15 2022-05-01     89.5    19113.0\n16 2022-05-04     89.3    19116.0\n17 2022-05-06     89.2    19118.0\n18 2022-05-08     88.9    19120.0\n19 2022-05-09     88.6    19121.0\n20 2022-05-15     88.6    19127.0\n21 2022-05-17     88.2    19129.0\n22 2022-05-19     87.5    19131.0\n23 2022-05-21     87.5    19133.0\n24 2022-05-24     87.4    19136.0\n25 2022-05-25     87.0    19137.0\n26 2022-05-26     86.7    19138.0\n27 2022-05-28     87.6    19140.0\n28 2022-05-29     87.1    19141.0\n29 2022-05-30     86.8    19142.0",
      "text/html": "<div>\n<style scoped>\n    .dataframe tbody tr th:only-of-type {\n        vertical-align: middle;\n    }\n\n    .dataframe tbody tr th {\n        vertical-align: top;\n    }\n\n    .dataframe thead th {\n        text-align: right;\n    }\n</style>\n<table border=\"1\" class=\"dataframe\">\n  <thead>\n    <tr style=\"text-align: right;\">\n      <th></th>\n      <th>Datum</th>\n      <th>Gewicht</th>\n      <th>Datum_num</th>\n    </tr>\n  </thead>\n  <tbody>\n    <tr>\n      <th>0</th>\n      <td>2022-03-01</td>\n      <td>92.9</td>\n      <td>19052.0</td>\n    </tr>\n    <tr>\n      <th>1</th>\n      <td>2022-03-12</td>\n      <td>92.4</td>\n      <td>19063.0</td>\n    </tr>\n    <tr>\n      <th>2</th>\n      <td>2022-03-17</td>\n      <td>92.2</td>\n      <td>19068.0</td>\n    </tr>\n    <tr>\n      <th>3</th>\n      <td>2022-03-20</td>\n      <td>91.7</td>\n      <td>19071.0</td>\n    </tr>\n    <tr>\n      <th>4</th>\n      <td>2022-03-24</td>\n      <td>92.0</td>\n      <td>19075.0</td>\n    </tr>\n    <tr>\n      <th>5</th>\n      <td>2022-03-25</td>\n      <td>91.3</td>\n      <td>19076.0</td>\n    </tr>\n    <tr>\n      <th>6</th>\n      <td>2022-03-29</td>\n      <td>91.0</td>\n      <td>19080.0</td>\n    </tr>\n    <tr>\n      <th>7</th>\n      <td>2022-03-30</td>\n      <td>90.7</td>\n      <td>19081.0</td>\n    </tr>\n    <tr>\n      <th>8</th>\n      <td>2022-04-03</td>\n      <td>90.8</td>\n      <td>19085.0</td>\n    </tr>\n    <tr>\n      <th>9</th>\n      <td>2022-04-05</td>\n      <td>90.4</td>\n      <td>19087.0</td>\n    </tr>\n    <tr>\n      <th>10</th>\n      <td>2022-04-09</td>\n      <td>90.3</td>\n      <td>19091.0</td>\n    </tr>\n    <tr>\n      <th>11</th>\n      <td>2022-04-12</td>\n      <td>89.7</td>\n      <td>19094.0</td>\n    </tr>\n    <tr>\n      <th>12</th>\n      <td>2022-04-17</td>\n      <td>90.8</td>\n      <td>19099.0</td>\n    </tr>\n    <tr>\n      <th>13</th>\n      <td>2022-04-19</td>\n      <td>89.9</td>\n      <td>19101.0</td>\n    </tr>\n    <tr>\n      <th>14</th>\n      <td>2022-04-26</td>\n      <td>89.8</td>\n      <td>19108.0</td>\n    </tr>\n    <tr>\n      <th>15</th>\n      <td>2022-05-01</td>\n      <td>89.5</td>\n      <td>19113.0</td>\n    </tr>\n    <tr>\n      <th>16</th>\n      <td>2022-05-04</td>\n      <td>89.3</td>\n      <td>19116.0</td>\n    </tr>\n    <tr>\n      <th>17</th>\n      <td>2022-05-06</td>\n      <td>89.2</td>\n      <td>19118.0</td>\n    </tr>\n    <tr>\n      <th>18</th>\n      <td>2022-05-08</td>\n      <td>88.9</td>\n      <td>19120.0</td>\n    </tr>\n    <tr>\n      <th>19</th>\n      <td>2022-05-09</td>\n      <td>88.6</td>\n      <td>19121.0</td>\n    </tr>\n    <tr>\n      <th>20</th>\n      <td>2022-05-15</td>\n      <td>88.6</td>\n      <td>19127.0</td>\n    </tr>\n    <tr>\n      <th>21</th>\n      <td>2022-05-17</td>\n      <td>88.2</td>\n      <td>19129.0</td>\n    </tr>\n    <tr>\n      <th>22</th>\n      <td>2022-05-19</td>\n      <td>87.5</td>\n      <td>19131.0</td>\n    </tr>\n    <tr>\n      <th>23</th>\n      <td>2022-05-21</td>\n      <td>87.5</td>\n      <td>19133.0</td>\n    </tr>\n    <tr>\n      <th>24</th>\n      <td>2022-05-24</td>\n      <td>87.4</td>\n      <td>19136.0</td>\n    </tr>\n    <tr>\n      <th>25</th>\n      <td>2022-05-25</td>\n      <td>87.0</td>\n      <td>19137.0</td>\n    </tr>\n    <tr>\n      <th>26</th>\n      <td>2022-05-26</td>\n      <td>86.7</td>\n      <td>19138.0</td>\n    </tr>\n    <tr>\n      <th>27</th>\n      <td>2022-05-28</td>\n      <td>87.6</td>\n      <td>19140.0</td>\n    </tr>\n    <tr>\n      <th>28</th>\n      <td>2022-05-29</td>\n      <td>87.1</td>\n      <td>19141.0</td>\n    </tr>\n    <tr>\n      <th>29</th>\n      <td>2022-05-30</td>\n      <td>86.8</td>\n      <td>19142.0</td>\n    </tr>\n  </tbody>\n</table>\n</div>"
     },
     "execution_count": 91,
     "metadata": {},
     "output_type": "execute_result"
    }
   ],
   "source": [
    "data"
   ],
   "metadata": {
    "collapsed": false,
    "pycharm": {
     "name": "#%%\n"
    }
   }
  },
  {
   "cell_type": "code",
   "execution_count": 92,
   "outputs": [],
   "source": [
    "n = len(data)"
   ],
   "metadata": {
    "collapsed": false,
    "pycharm": {
     "name": "#%%\n"
    }
   }
  },
  {
   "cell_type": "code",
   "execution_count": 98,
   "outputs": [
    {
     "name": "stderr",
     "output_type": "stream",
     "text": [
      "C:\\devsbb\\Anaconda3\\envs\\pymc_env\\lib\\site-packages\\seaborn\\_decorators.py:36: FutureWarning: Pass the following variables as keyword args: x, y. From version 0.12, the only valid positional argument will be `data`, and passing other arguments without an explicit keyword will result in an error or misinterpretation.\n",
      "  warnings.warn(\n"
     ]
    },
    {
     "data": {
      "text/plain": "<Figure size 1008x432 with 1 Axes>",
      "image/png": "[encoded data removed]"
     },
     "metadata": {
      "needs_background": "light"
     },
     "output_type": "display_data"
    }
   ],
   "source": [
    "@plt.FuncFormatter\n",
    "def fake_dates(x, pos):\n",
    "    \"\"\" Custom formater to turn floats into e.g., 2016-05-08\"\"\"\n",
    "    return dates.num2date(x).strftime('%Y-%m-%d')\n",
    "\n",
    "fig, ax = plt.subplots()\n",
    "ax.set_xlim([data.Datum_num[0],data.Datum_num[n-1]*1.004])\n",
    "ax.set_ylim([82,93])\n",
    "# just use regplot if you don't need a FacetGrid\n",
    "sns.regplot('Datum_num', 'Gewicht', data=data, ax=ax,ci=0, color=\"black\",line_kws={\"color\": \"blue\"},truncate=False)\n",
    "plt.axhline(83, color = 'r', linestyle = '-')\n",
    "\n",
    "# here's the magic:\n",
    "ax.xaxis.set_major_formatter(fake_dates)\n",
    "\n",
    "# legible labels\n",
    "ax.tick_params(labelrotation=45)"
   ],
   "metadata": {
    "collapsed": false,
    "pycharm": {
     "name": "#%%\n"
    }
   }
  },
  {
   "cell_type": "code",
   "execution_count": null,
   "outputs": [],
   "source": [],
   "metadata": {
    "collapsed": false,
    "pycharm": {
     "name": "#%%\n"
    }
   }
  }
 ],
 "metadata": {
  "kernelspec": {
   "display_name": "Python 3 (ipykernel)",
   "language": "python",
   "name": "python3"
  },
  "language_info": {
   "codemirror_mode": {
    "name": "ipython",
    "version": 3
   },
   "file_extension": ".py",
   "mimetype": "text/x-python",
   "name": "python",
   "nbconvert_exporter": "python",
   "pygments_lexer": "ipython3",
   "version": "3.9.9"
  }
 },
 "nbformat": 4,
 "nbformat_minor": 5
}